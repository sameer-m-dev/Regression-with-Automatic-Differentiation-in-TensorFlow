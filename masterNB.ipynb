{
  "nbformat": 4,
  "nbformat_minor": 0,
  "metadata": {
    "colab": {
      "name": "masterNB.ipynb",
      "provenance": [],
      "collapsed_sections": []
    },
    "kernelspec": {
      "display_name": "Python 3",
      "language": "python",
      "name": "python3"
    },
    "language_info": {
      "codemirror_mode": {
        "name": "ipython",
        "version": 3
      },
      "file_extension": ".py",
      "mimetype": "text/x-python",
      "name": "python",
      "nbconvert_exporter": "python",
      "pygments_lexer": "ipython3",
      "version": "3.7.0"
    }
  },
  "cells": [
    {
      "cell_type": "markdown",
      "metadata": {
        "colab_type": "text",
        "id": "t53jP8uAemXu"
      },
      "source": [
        "# Regression with Automatic Differentiation in TensorFlow"
      ]
    },
    {
      "cell_type": "markdown",
      "metadata": {
        "colab_type": "text",
        "id": "QGjXvUdcemXw"
      },
      "source": [
        "# Task 1: TensorFlow"
      ]
    },
    {
      "cell_type": "code",
      "metadata": {
        "colab_type": "code",
        "id": "TtDgZK3lemXx",
        "outputId": "e5ca7627-ad29-4588-ee9e-f140ff21523c",
        "colab": {
          "base_uri": "https://localhost:8080/",
          "height": 51
        }
      },
      "source": [
        "import tensorflow as tf\n",
        "import numpy as np\n",
        "import matplotlib.pyplot as plt\n",
        "%matplotlib inline\n",
        "\n",
        "print('Using TensorFlow version:', tf.__version__)\n",
        "print('Devices available:', tf.config.list_physical_devices())"
      ],
      "execution_count": 1,
      "outputs": [
        {
          "output_type": "stream",
          "text": [
            "Using TensorFlow version: 2.2.0\n",
            "Devices available: [PhysicalDevice(name='/physical_device:CPU:0', device_type='CPU'), PhysicalDevice(name='/physical_device:XLA_CPU:0', device_type='XLA_CPU')]\n"
          ],
          "name": "stdout"
        }
      ]
    },
    {
      "cell_type": "markdown",
      "metadata": {
        "colab_type": "text",
        "id": "yeJJgtrVemX1"
      },
      "source": [
        "# Task 2: Constants"
      ]
    },
    {
      "cell_type": "code",
      "metadata": {
        "colab_type": "code",
        "id": "43yEzEx4emX2",
        "outputId": "266e0dc8-71c7-4f36-e5b8-2b1ee02dd27f",
        "colab": {
          "base_uri": "https://localhost:8080/",
          "height": 34
        }
      },
      "source": [
        "# Declaring a constant\n",
        "tf.constant([1,2,3])"
      ],
      "execution_count": 2,
      "outputs": [
        {
          "output_type": "execute_result",
          "data": {
            "text/plain": [
              "<tf.Tensor: shape=(3,), dtype=int32, numpy=array([1, 2, 3], dtype=int32)>"
            ]
          },
          "metadata": {
            "tags": []
          },
          "execution_count": 2
        }
      ]
    },
    {
      "cell_type": "code",
      "metadata": {
        "colab_type": "code",
        "id": "eqsbdFrgemX5",
        "outputId": "0f8e10a9-98e6-4c7d-938f-b49898938e2f",
        "colab": {
          "base_uri": "https://localhost:8080/",
          "height": 34
        }
      },
      "source": [
        "tf.convert_to_tensor([1,2,3])"
      ],
      "execution_count": 3,
      "outputs": [
        {
          "output_type": "execute_result",
          "data": {
            "text/plain": [
              "<tf.Tensor: shape=(3,), dtype=int32, numpy=array([1, 2, 3], dtype=int32)>"
            ]
          },
          "metadata": {
            "tags": []
          },
          "execution_count": 3
        }
      ]
    },
    {
      "cell_type": "code",
      "metadata": {
        "colab_type": "code",
        "id": "_9INFP-UemX9",
        "outputId": "0d23dfc0-e020-49c1-deeb-0b0c8f4d8bf3",
        "colab": {
          "base_uri": "https://localhost:8080/",
          "height": 34
        }
      },
      "source": [
        "tf.convert_to_tensor([1,2,3], dtype=tf.float32)"
      ],
      "execution_count": 4,
      "outputs": [
        {
          "output_type": "execute_result",
          "data": {
            "text/plain": [
              "<tf.Tensor: shape=(3,), dtype=float32, numpy=array([1., 2., 3.], dtype=float32)>"
            ]
          },
          "metadata": {
            "tags": []
          },
          "execution_count": 4
        }
      ]
    },
    {
      "cell_type": "code",
      "metadata": {
        "colab_type": "code",
        "id": "znTS24MZemYB",
        "outputId": "6538594d-26dd-4eb0-d911-bd66a26307ca",
        "colab": {
          "base_uri": "https://localhost:8080/",
          "height": 34
        }
      },
      "source": [
        "tf.convert_to_tensor([1,2,3]).numpy()"
      ],
      "execution_count": 5,
      "outputs": [
        {
          "output_type": "execute_result",
          "data": {
            "text/plain": [
              "array([1, 2, 3], dtype=int32)"
            ]
          },
          "metadata": {
            "tags": []
          },
          "execution_count": 5
        }
      ]
    },
    {
      "cell_type": "markdown",
      "metadata": {
        "colab_type": "text",
        "id": "nJfEQ58nemYE"
      },
      "source": [
        "# Task 3: Variables"
      ]
    },
    {
      "cell_type": "code",
      "metadata": {
        "colab_type": "code",
        "id": "Zll_KnvQemYF",
        "outputId": "c17300df-f915-4a05-ce8f-6349a546697a",
        "colab": {
          "base_uri": "https://localhost:8080/",
          "height": 34
        }
      },
      "source": [
        "# Declaring a variable\n",
        "tf.Variable([1,2,3])"
      ],
      "execution_count": 6,
      "outputs": [
        {
          "output_type": "execute_result",
          "data": {
            "text/plain": [
              "<tf.Variable 'Variable:0' shape=(3,) dtype=int32, numpy=array([1, 2, 3], dtype=int32)>"
            ]
          },
          "metadata": {
            "tags": []
          },
          "execution_count": 6
        }
      ]
    },
    {
      "cell_type": "code",
      "metadata": {
        "colab_type": "code",
        "id": "VfRgXq_ZemYI",
        "outputId": "4dc54b69-f3eb-4d42-86e5-dd5c2adb92de",
        "colab": {
          "base_uri": "https://localhost:8080/",
          "height": 51
        }
      },
      "source": [
        "# Assigning a new value to a variable\n",
        "v = tf.Variable(1)\n",
        "print(\"val:\", v.numpy())\n",
        "v.assign(2)\n",
        "print(\"val:\", v.numpy())"
      ],
      "execution_count": 8,
      "outputs": [
        {
          "output_type": "stream",
          "text": [
            "val: 1\n",
            "val: 2\n"
          ],
          "name": "stdout"
        }
      ]
    },
    {
      "cell_type": "code",
      "metadata": {
        "colab_type": "code",
        "id": "UnVY2yTMemYM",
        "outputId": "68a2ecd8-c9b2-4246-ecf0-661e35e191a2",
        "colab": {
          "base_uri": "https://localhost:8080/",
          "height": 68
        }
      },
      "source": [
        "# Matrix Mul between a constant and a variable\n",
        "c = tf.convert_to_tensor(np.random.rand(2,3))\n",
        "v = tf.Variable(np.random.rand(3,1))\n",
        "print(tf.matmul(c,v))"
      ],
      "execution_count": 9,
      "outputs": [
        {
          "output_type": "stream",
          "text": [
            "tf.Tensor(\n",
            "[[0.84671092]\n",
            " [1.08651172]], shape=(2, 1), dtype=float64)\n"
          ],
          "name": "stdout"
        }
      ]
    },
    {
      "cell_type": "markdown",
      "metadata": {
        "colab_type": "text",
        "id": "hR11kOzpemYT"
      },
      "source": [
        "# Task 4: Automatic Differentiation\n",
        "\n",
        "Let's take a simple equation as an example:\n",
        "\\begin{equation}\n",
        "y = x^3 ; \\frac{dy}{dx} = 3x^2\n",
        "\\end{equation}"
      ]
    },
    {
      "cell_type": "code",
      "metadata": {
        "colab_type": "code",
        "id": "k5ajy3b8emYT",
        "outputId": "ea4eca90-c381-437f-c49a-ccd56f6c94fe",
        "colab": {
          "base_uri": "https://localhost:8080/",
          "height": 34
        }
      },
      "source": [
        "x = tf.Variable(3.0)\n",
        "with tf.GradientTape() as tape:\n",
        "    y = x**3\n",
        "dy_dx = tape.gradient(y, x)\n",
        "print(\"gradient at x={} is {}\".format(x.numpy(),dy_dx))"
      ],
      "execution_count": 11,
      "outputs": [
        {
          "output_type": "stream",
          "text": [
            "gradient at x=3.0 is 27.0\n"
          ],
          "name": "stdout"
        }
      ]
    },
    {
      "cell_type": "markdown",
      "metadata": {
        "colab_type": "text",
        "id": "67wEMiJ6emYW"
      },
      "source": [
        "What about higher order gradients?\n",
        "\n",
        "\\begin{equation}\n",
        "y = x^3 ; \\frac{dy}{dx} = 3x^2 ; \\frac{d^2 y}{dx^2} = 6x\n",
        "\\end{equation}"
      ]
    },
    {
      "cell_type": "code",
      "metadata": {
        "colab_type": "code",
        "id": "4Z_D-hQvemYX",
        "outputId": "0bf5e24b-30e8-4c0e-ea3b-887bfd4f9772",
        "colab": {
          "base_uri": "https://localhost:8080/",
          "height": 34
        }
      },
      "source": [
        "x = tf.Variable(3.0)\n",
        "with tf.GradientTape() as tape1:\n",
        "    with tf.GradientTape() as tape2:\n",
        "        y = x**3\n",
        "    dy_dx = tape2.gradient(y, x)\n",
        "d2y_dx2 = tape1.gradient(dy_dx, x)\n",
        "print(\"2nd order gradient at x={} is {}\".format(x.numpy(),d2y_dx2))"
      ],
      "execution_count": 12,
      "outputs": [
        {
          "output_type": "stream",
          "text": [
            "2nd order gradient at x=3.0 is 18.0\n"
          ],
          "name": "stdout"
        }
      ]
    },
    {
      "cell_type": "markdown",
      "metadata": {
        "colab_type": "text",
        "id": "-Ykx-BgPemYa"
      },
      "source": [
        "# Task 5: Watching Tensors"
      ]
    },
    {
      "cell_type": "code",
      "metadata": {
        "colab_type": "code",
        "id": "AgzqdgOQemYb",
        "outputId": "33b58d26-3983-419a-c39d-10cd7accda3e",
        "colab": {
          "base_uri": "https://localhost:8080/",
          "height": 34
        }
      },
      "source": [
        "x = tf.constant(3.0)\n",
        "with tf.GradientTape() as tape:\n",
        "    y = x**3\n",
        "\n",
        "dy_dx = tape.gradient(y, x)\n",
        "print(dy_dx)"
      ],
      "execution_count": 13,
      "outputs": [
        {
          "output_type": "stream",
          "text": [
            "None\n"
          ],
          "name": "stdout"
        }
      ]
    },
    {
      "cell_type": "code",
      "metadata": {
        "colab_type": "code",
        "id": "8DGTAUq0emYe",
        "outputId": "2080955d-5311-4512-82ef-53b720b7e3ba",
        "colab": {
          "base_uri": "https://localhost:8080/",
          "height": 34
        }
      },
      "source": [
        "x = tf.constant(3.0)\n",
        "with tf.GradientTape() as tape:\n",
        "    tape.watch(x)\n",
        "    y = x**3\n",
        "\n",
        "dy_dx = tape.gradient(y, x)\n",
        "print(dy_dx)"
      ],
      "execution_count": 14,
      "outputs": [
        {
          "output_type": "stream",
          "text": [
            "tf.Tensor(27.0, shape=(), dtype=float32)\n"
          ],
          "name": "stdout"
        }
      ]
    },
    {
      "cell_type": "markdown",
      "metadata": {
        "colab_type": "text",
        "id": "P5NGaCbOemYn"
      },
      "source": [
        "# Task 6: Persistent Tape\n",
        "\n",
        "\\begin{equation}\n",
        "y = x^3 ; z = 2y ; \\frac{dz}{dx} = \\frac{dz}{dy} . \\frac{dy}{dx}\n",
        "\\end{equation}"
      ]
    },
    {
      "cell_type": "code",
      "metadata": {
        "colab_type": "code",
        "id": "8wwmyGAnemYo",
        "outputId": "6cd07e9d-464c-4d44-80e4-7a55d4666939",
        "colab": {
          "base_uri": "https://localhost:8080/",
          "height": 68
        }
      },
      "source": [
        "x = tf.Variable(3.0)\n",
        "with tf.GradientTape(persistent=True) as tape:\n",
        "    y = x**3\n",
        "    z = 2*y\n",
        "\n",
        "dz_dy = tape.gradient(z, y)   \n",
        "dy_dx = tape.gradient(y, x)\n",
        "dz_dx = tape.gradient(z, x)\n",
        "\n",
        "del tape \n",
        "\n",
        "print(\"dz_dy:\", dz_dy.numpy())\n",
        "print(\"dy_dx:\", dy_dx.numpy())\n",
        "print(\"dz_dx:\", dz_dx.numpy())"
      ],
      "execution_count": 15,
      "outputs": [
        {
          "output_type": "stream",
          "text": [
            "dz_dy: 2.0\n",
            "dy_dx: 27.0\n",
            "dz_dx: 54.0\n"
          ],
          "name": "stdout"
        }
      ]
    },
    {
      "cell_type": "markdown",
      "metadata": {
        "colab_type": "text",
        "id": "V4Wv58PLemYr"
      },
      "source": [
        "# Task 7: Generating Data for Linear Regression\n",
        "\n",
        "Solve a simple linear equation:\n",
        "\n",
        "\\begin{equation}\n",
        "y = wx + b\n",
        "\\end{equation}"
      ]
    },
    {
      "cell_type": "code",
      "metadata": {
        "colab_type": "code",
        "id": "NzZ_gt4uemYs",
        "colab": {}
      },
      "source": [
        "true_w, true_b = 7., 4.\n",
        "\n",
        "def create_batch(batch_size=64):\n",
        "    x = np.random.randn(batch_size, 1)\n",
        "    y = np.random.randn(batch_size, 1) + true_w * x + true_b\n",
        "    return x, y"
      ],
      "execution_count": 0,
      "outputs": []
    },
    {
      "cell_type": "code",
      "metadata": {
        "colab_type": "code",
        "id": "LWpHL9aPemYv",
        "outputId": "b5639f2c-e479-4714-a22d-2835b329a290",
        "colab": {
          "base_uri": "https://localhost:8080/",
          "height": 282
        }
      },
      "source": [
        "x, y = create_batch()\n",
        "plt.plot(x, y, '.')"
      ],
      "execution_count": 31,
      "outputs": [
        {
          "output_type": "execute_result",
          "data": {
            "text/plain": [
              "[<matplotlib.lines.Line2D at 0x7fea6d3130f0>]"
            ]
          },
          "metadata": {
            "tags": []
          },
          "execution_count": 31
        },
        {
          "output_type": "display_data",
          "data": {
            "image/png": "[encoded data removed]",
            "text/plain": [
              "<Figure size 432x288 with 1 Axes>"
            ]
          },
          "metadata": {
            "tags": [],
            "needs_background": "light"
          }
        }
      ]
    },
    {
      "cell_type": "markdown",
      "metadata": {
        "colab_type": "text",
        "id": "K-Vvh95gfifF"
      },
      "source": [
        "# Task 8: Linear Regression"
      ]
    },
    {
      "cell_type": "code",
      "metadata": {
        "colab_type": "code",
        "id": "crsFa20DfgmQ",
        "outputId": "0dfa2b22-a780-4843-8889-d2f2b4e216ac",
        "colab": {
          "base_uri": "https://localhost:8080/",
          "height": 187
        }
      },
      "source": [
        "iterations = 100\n",
        "lr = 0.03\n",
        "\n",
        "w_history = []\n",
        "b_history = []\n",
        "\n",
        "w = tf.Variable(10.0)\n",
        "b = tf.Variable(1.0)\n",
        "\n",
        "for i in range(0, iterations):\n",
        "    x_batch, y_batch = create_batch()\n",
        "    x_batch = tf.convert_to_tensor(x_batch, dtype=tf.float32)\n",
        "    y_batch = tf.convert_to_tensor(y_batch, dtype=tf.float32) \n",
        "    with tf.GradientTape(persistent=True) as tape:\n",
        "        y = b + w * x_batch\n",
        "        loss = tf.reduce_mean(tf.square(y - y_batch))\n",
        "    dw = tape.gradient(loss, w)\n",
        "    db = tape.gradient(loss, b)\n",
        "    \n",
        "    del tape\n",
        "    \n",
        "    w.assign_sub(lr*dw)\n",
        "    b.assign_sub(lr*db) \n",
        "    \n",
        "    w_history.append(w.numpy())\n",
        "    b_history.append(b.numpy())\n",
        "    \n",
        "    if  i%10==0:\n",
        "        print(\"Iteration: {}, w: {}, b: {}\".format(i, w.numpy(), b.numpy()))"
      ],
      "execution_count": 32,
      "outputs": [
        {
          "output_type": "stream",
          "text": [
            "Iteration: 0, w: 9.863370895385742, b: 1.1543816328048706\n",
            "Iteration: 10, w: 8.549626350402832, b: 2.351086139678955\n",
            "Iteration: 20, w: 7.781948089599609, b: 3.080034017562866\n",
            "Iteration: 30, w: 7.390927314758301, b: 3.5235812664031982\n",
            "Iteration: 40, w: 7.218851089477539, b: 3.731355667114258\n",
            "Iteration: 50, w: 7.132312297821045, b: 3.8647444248199463\n",
            "Iteration: 60, w: 7.07395076751709, b: 3.943063497543335\n",
            "Iteration: 70, w: 7.043975830078125, b: 3.9605045318603516\n",
            "Iteration: 80, w: 7.022345066070557, b: 3.96101713180542\n",
            "Iteration: 90, w: 7.021440029144287, b: 3.980226755142212\n"
          ],
          "name": "stdout"
        }
      ]
    },
    {
      "cell_type": "code",
      "metadata": {
        "colab_type": "code",
        "id": "n7-ke23kf5rh",
        "outputId": "27ca82c7-a894-4f11-d94d-f7b657022d91",
        "colab": {
          "base_uri": "https://localhost:8080/",
          "height": 265
        }
      },
      "source": [
        "# Plotting the points\n",
        "plt.plot(range(iterations), w_history, label=\"Learned w\")\n",
        "plt.plot(range(iterations), b_history, label=\"Learned b\")\n",
        "plt.plot(range(iterations), [true_w]*iterations, label=\"True w\")\n",
        "plt.plot(range(iterations), [true_b]*iterations, label=\"True b\")\n",
        "plt.legend()\n",
        "plt.show()"
      ],
      "execution_count": 33,
      "outputs": [
        {
          "output_type": "display_data",
          "data": {
            "image/png": "[encoded data removed]",
            "text/plain": [
              "<Figure size 432x288 with 1 Axes>"
            ]
          },
          "metadata": {
            "tags": [],
            "needs_background": "light"
          }
        }
      ]
    },
    {
      "cell_type": "code",
      "metadata": {
        "id": "m5NbA0C-12YC",
        "colab_type": "code",
        "colab": {}
      },
      "source": [
        ""
      ],
      "execution_count": 0,
      "outputs": []
    },
    {
      "cell_type": "code",
      "metadata": {
        "id": "Fqp1jQH512YL",
        "colab_type": "code",
        "colab": {}
      },
      "source": [
        ""
      ],
      "execution_count": 0,
      "outputs": []
    }
  ]
}